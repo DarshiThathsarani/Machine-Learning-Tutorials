{
 "cells": [
  {
   "cell_type": "code",
   "execution_count": 1,
   "metadata": {},
   "outputs": [],
   "source": [
    "from sklearn.datasets import load_iris\n",
    "X,y=load_iris(return_X_y=True) # directly returning independent & dependent variables"
   ]
  },
  {
   "cell_type": "code",
   "execution_count": 4,
   "metadata": {},
   "outputs": [
    {
     "data": {
      "text/plain": [
       "array([[5.1, 3.5, 1.4, 0.2],\n",
       "       [4.9, 3. , 1.4, 0.2],\n",
       "       [4.7, 3.2, 1.3, 0.2],\n",
       "       [4.6, 3.1, 1.5, 0.2],\n",
       "       [5. , 3.6, 1.4, 0.2],\n",
       "       [5.4, 3.9, 1.7, 0.4],\n",
       "       [4.6, 3.4, 1.4, 0.3],\n",
       "       [5. , 3.4, 1.5, 0.2],\n",
       "       [4.4, 2.9, 1.4, 0.2],\n",
       "       [4.9, 3.1, 1.5, 0.1],\n",
       "       [5.4, 3.7, 1.5, 0.2],\n",
       "       [4.8, 3.4, 1.6, 0.2],\n",
       "       [4.8, 3. , 1.4, 0.1],\n",
       "       [4.3, 3. , 1.1, 0.1],\n",
       "       [5.8, 4. , 1.2, 0.2],\n",
       "       [5.7, 4.4, 1.5, 0.4],\n",
       "       [5.4, 3.9, 1.3, 0.4],\n",
       "       [5.1, 3.5, 1.4, 0.3],\n",
       "       [5.7, 3.8, 1.7, 0.3],\n",
       "       [5.1, 3.8, 1.5, 0.3],\n",
       "       [5.4, 3.4, 1.7, 0.2],\n",
       "       [5.1, 3.7, 1.5, 0.4],\n",
       "       [4.6, 3.6, 1. , 0.2],\n",
       "       [5.1, 3.3, 1.7, 0.5],\n",
       "       [4.8, 3.4, 1.9, 0.2],\n",
       "       [5. , 3. , 1.6, 0.2],\n",
       "       [5. , 3.4, 1.6, 0.4],\n",
       "       [5.2, 3.5, 1.5, 0.2],\n",
       "       [5.2, 3.4, 1.4, 0.2],\n",
       "       [4.7, 3.2, 1.6, 0.2],\n",
       "       [4.8, 3.1, 1.6, 0.2],\n",
       "       [5.4, 3.4, 1.5, 0.4],\n",
       "       [5.2, 4.1, 1.5, 0.1],\n",
       "       [5.5, 4.2, 1.4, 0.2],\n",
       "       [4.9, 3.1, 1.5, 0.2],\n",
       "       [5. , 3.2, 1.2, 0.2],\n",
       "       [5.5, 3.5, 1.3, 0.2],\n",
       "       [4.9, 3.6, 1.4, 0.1],\n",
       "       [4.4, 3. , 1.3, 0.2],\n",
       "       [5.1, 3.4, 1.5, 0.2],\n",
       "       [5. , 3.5, 1.3, 0.3],\n",
       "       [4.5, 2.3, 1.3, 0.3],\n",
       "       [4.4, 3.2, 1.3, 0.2],\n",
       "       [5. , 3.5, 1.6, 0.6],\n",
       "       [5.1, 3.8, 1.9, 0.4],\n",
       "       [4.8, 3. , 1.4, 0.3],\n",
       "       [5.1, 3.8, 1.6, 0.2],\n",
       "       [4.6, 3.2, 1.4, 0.2],\n",
       "       [5.3, 3.7, 1.5, 0.2],\n",
       "       [5. , 3.3, 1.4, 0.2],\n",
       "       [7. , 3.2, 4.7, 1.4],\n",
       "       [6.4, 3.2, 4.5, 1.5],\n",
       "       [6.9, 3.1, 4.9, 1.5],\n",
       "       [5.5, 2.3, 4. , 1.3],\n",
       "       [6.5, 2.8, 4.6, 1.5],\n",
       "       [5.7, 2.8, 4.5, 1.3],\n",
       "       [6.3, 3.3, 4.7, 1.6],\n",
       "       [4.9, 2.4, 3.3, 1. ],\n",
       "       [6.6, 2.9, 4.6, 1.3],\n",
       "       [5.2, 2.7, 3.9, 1.4],\n",
       "       [5. , 2. , 3.5, 1. ],\n",
       "       [5.9, 3. , 4.2, 1.5],\n",
       "       [6. , 2.2, 4. , 1. ],\n",
       "       [6.1, 2.9, 4.7, 1.4],\n",
       "       [5.6, 2.9, 3.6, 1.3],\n",
       "       [6.7, 3.1, 4.4, 1.4],\n",
       "       [5.6, 3. , 4.5, 1.5],\n",
       "       [5.8, 2.7, 4.1, 1. ],\n",
       "       [6.2, 2.2, 4.5, 1.5],\n",
       "       [5.6, 2.5, 3.9, 1.1],\n",
       "       [5.9, 3.2, 4.8, 1.8],\n",
       "       [6.1, 2.8, 4. , 1.3],\n",
       "       [6.3, 2.5, 4.9, 1.5],\n",
       "       [6.1, 2.8, 4.7, 1.2],\n",
       "       [6.4, 2.9, 4.3, 1.3],\n",
       "       [6.6, 3. , 4.4, 1.4],\n",
       "       [6.8, 2.8, 4.8, 1.4],\n",
       "       [6.7, 3. , 5. , 1.7],\n",
       "       [6. , 2.9, 4.5, 1.5],\n",
       "       [5.7, 2.6, 3.5, 1. ],\n",
       "       [5.5, 2.4, 3.8, 1.1],\n",
       "       [5.5, 2.4, 3.7, 1. ],\n",
       "       [5.8, 2.7, 3.9, 1.2],\n",
       "       [6. , 2.7, 5.1, 1.6],\n",
       "       [5.4, 3. , 4.5, 1.5],\n",
       "       [6. , 3.4, 4.5, 1.6],\n",
       "       [6.7, 3.1, 4.7, 1.5],\n",
       "       [6.3, 2.3, 4.4, 1.3],\n",
       "       [5.6, 3. , 4.1, 1.3],\n",
       "       [5.5, 2.5, 4. , 1.3],\n",
       "       [5.5, 2.6, 4.4, 1.2],\n",
       "       [6.1, 3. , 4.6, 1.4],\n",
       "       [5.8, 2.6, 4. , 1.2],\n",
       "       [5. , 2.3, 3.3, 1. ],\n",
       "       [5.6, 2.7, 4.2, 1.3],\n",
       "       [5.7, 3. , 4.2, 1.2],\n",
       "       [5.7, 2.9, 4.2, 1.3],\n",
       "       [6.2, 2.9, 4.3, 1.3],\n",
       "       [5.1, 2.5, 3. , 1.1],\n",
       "       [5.7, 2.8, 4.1, 1.3],\n",
       "       [6.3, 3.3, 6. , 2.5],\n",
       "       [5.8, 2.7, 5.1, 1.9],\n",
       "       [7.1, 3. , 5.9, 2.1],\n",
       "       [6.3, 2.9, 5.6, 1.8],\n",
       "       [6.5, 3. , 5.8, 2.2],\n",
       "       [7.6, 3. , 6.6, 2.1],\n",
       "       [4.9, 2.5, 4.5, 1.7],\n",
       "       [7.3, 2.9, 6.3, 1.8],\n",
       "       [6.7, 2.5, 5.8, 1.8],\n",
       "       [7.2, 3.6, 6.1, 2.5],\n",
       "       [6.5, 3.2, 5.1, 2. ],\n",
       "       [6.4, 2.7, 5.3, 1.9],\n",
       "       [6.8, 3. , 5.5, 2.1],\n",
       "       [5.7, 2.5, 5. , 2. ],\n",
       "       [5.8, 2.8, 5.1, 2.4],\n",
       "       [6.4, 3.2, 5.3, 2.3],\n",
       "       [6.5, 3. , 5.5, 1.8],\n",
       "       [7.7, 3.8, 6.7, 2.2],\n",
       "       [7.7, 2.6, 6.9, 2.3],\n",
       "       [6. , 2.2, 5. , 1.5],\n",
       "       [6.9, 3.2, 5.7, 2.3],\n",
       "       [5.6, 2.8, 4.9, 2. ],\n",
       "       [7.7, 2.8, 6.7, 2. ],\n",
       "       [6.3, 2.7, 4.9, 1.8],\n",
       "       [6.7, 3.3, 5.7, 2.1],\n",
       "       [7.2, 3.2, 6. , 1.8],\n",
       "       [6.2, 2.8, 4.8, 1.8],\n",
       "       [6.1, 3. , 4.9, 1.8],\n",
       "       [6.4, 2.8, 5.6, 2.1],\n",
       "       [7.2, 3. , 5.8, 1.6],\n",
       "       [7.4, 2.8, 6.1, 1.9],\n",
       "       [7.9, 3.8, 6.4, 2. ],\n",
       "       [6.4, 2.8, 5.6, 2.2],\n",
       "       [6.3, 2.8, 5.1, 1.5],\n",
       "       [6.1, 2.6, 5.6, 1.4],\n",
       "       [7.7, 3. , 6.1, 2.3],\n",
       "       [6.3, 3.4, 5.6, 2.4],\n",
       "       [6.4, 3.1, 5.5, 1.8],\n",
       "       [6. , 3. , 4.8, 1.8],\n",
       "       [6.9, 3.1, 5.4, 2.1],\n",
       "       [6.7, 3.1, 5.6, 2.4],\n",
       "       [6.9, 3.1, 5.1, 2.3],\n",
       "       [5.8, 2.7, 5.1, 1.9],\n",
       "       [6.8, 3.2, 5.9, 2.3],\n",
       "       [6.7, 3.3, 5.7, 2.5],\n",
       "       [6.7, 3. , 5.2, 2.3],\n",
       "       [6.3, 2.5, 5. , 1.9],\n",
       "       [6.5, 3. , 5.2, 2. ],\n",
       "       [6.2, 3.4, 5.4, 2.3],\n",
       "       [5.9, 3. , 5.1, 1.8]])"
      ]
     },
     "execution_count": 4,
     "metadata": {},
     "output_type": "execute_result"
    }
   ],
   "source": [
    "X"
   ]
  },
  {
   "cell_type": "code",
   "execution_count": 5,
   "metadata": {},
   "outputs": [
    {
     "data": {
      "text/plain": [
       "array([0, 0, 0, 0, 0, 0, 0, 0, 0, 0, 0, 0, 0, 0, 0, 0, 0, 0, 0, 0, 0, 0,\n",
       "       0, 0, 0, 0, 0, 0, 0, 0, 0, 0, 0, 0, 0, 0, 0, 0, 0, 0, 0, 0, 0, 0,\n",
       "       0, 0, 0, 0, 0, 0, 1, 1, 1, 1, 1, 1, 1, 1, 1, 1, 1, 1, 1, 1, 1, 1,\n",
       "       1, 1, 1, 1, 1, 1, 1, 1, 1, 1, 1, 1, 1, 1, 1, 1, 1, 1, 1, 1, 1, 1,\n",
       "       1, 1, 1, 1, 1, 1, 1, 1, 1, 1, 1, 1, 2, 2, 2, 2, 2, 2, 2, 2, 2, 2,\n",
       "       2, 2, 2, 2, 2, 2, 2, 2, 2, 2, 2, 2, 2, 2, 2, 2, 2, 2, 2, 2, 2, 2,\n",
       "       2, 2, 2, 2, 2, 2, 2, 2, 2, 2, 2, 2, 2, 2, 2, 2, 2, 2])"
      ]
     },
     "execution_count": 5,
     "metadata": {},
     "output_type": "execute_result"
    }
   ],
   "source": [
    "y"
   ]
  },
  {
   "cell_type": "code",
   "execution_count": 8,
   "metadata": {},
   "outputs": [
    {
     "data": {
      "text/plain": [
       "(150, 4)"
      ]
     },
     "execution_count": 8,
     "metadata": {},
     "output_type": "execute_result"
    }
   ],
   "source": [
    "# normalizing the independent attribute values up to maximum of 10% adjustment\n",
    "from sklearn.feature_selection import VarianceThreshold\n",
    "selection=VarianceThreshold(threshold=(0.1))\n",
    "X=selection.fit_transform(X)\n",
    "# X.shape represents. 150 data records with 4 feature attributes\n",
    "X.shape "
   ]
  },
  {
   "cell_type": "code",
   "execution_count": 12,
   "metadata": {},
   "outputs": [],
   "source": [
    "from sklearn.model_selection import train_test_split\n",
    "X_train, X_test,y_train, y_test=train_test_split(X,y,stratify=y, test_size=0.2, random_state=42)\n",
    "# X --> independent variables.\n",
    "# Y--> dependent variable / classes\n",
    "#stratify =y --> \n",
    "#If you make statify attribute to Yes, it will prevent class inbalance problems to the most possible level during \n",
    "#randomized data spliting for trainin and testing\n",
    "# random=42 --> \n",
    "#This assures a specific permutation sequence in random spliting. \n",
    "#It will prevent getting different random splits, when you execute the command more than once."
   ]
  },
  {
   "cell_type": "code",
   "execution_count": 13,
   "metadata": {},
   "outputs": [
    {
     "data": {
      "text/plain": [
       "(120, 4)"
      ]
     },
     "execution_count": 13,
     "metadata": {},
     "output_type": "execute_result"
    }
   ],
   "source": [
    "X_train.shape"
   ]
  },
  {
   "cell_type": "code",
   "execution_count": 15,
   "metadata": {},
   "outputs": [
    {
     "data": {
      "text/plain": [
       "(30, 4)"
      ]
     },
     "execution_count": 15,
     "metadata": {},
     "output_type": "execute_result"
    }
   ],
   "source": [
    "X_test.shape"
   ]
  },
  {
   "cell_type": "code",
   "execution_count": 17,
   "metadata": {},
   "outputs": [],
   "source": [
    "from sklearn.metrics import accuracy_score\n",
    "from sklearn.metrics import matthews_corrcoef # used to analyze the performance of the classifiers\n",
    "from sklearn.metrics import f1_score # present the stable accuracy of the classifier models"
   ]
  },
  {
   "cell_type": "code",
   "execution_count": 22,
   "metadata": {},
   "outputs": [
    {
     "name": "stdout",
     "output_type": "stream",
     "text": [
      "KNN model performance on Training set\n",
      "Accuracy Score :%s 0.9583333333333334\n",
      "Matthews Score :%s 0.9375976715114386\n",
      "F1 Score :%s 0.9583268218992551\n",
      "KNN model performance on Testing set\n",
      "Accuracy Score :%s 1.0\n",
      "Matthews Score :%s 1.0\n",
      "F1 Score :%s 1.0\n"
     ]
    }
   ],
   "source": [
    "from sklearn.neighbors import KNeighborsClassifier\n",
    "knn=KNeighborsClassifier(3) # consider the 03 most closer neighbours when performing the classification\n",
    "knn.fit(X_train,y_train)\n",
    "# doing the predictions via the created knn model\n",
    "y_train_pred=knn.predict(X_train)\n",
    "y_test_pred=knn.predict(X_test)\n",
    "\n",
    "# Training set performance.\n",
    "knn_train_accuracy=accuracy_score(y_train,y_train_pred)# calculate accuracy\n",
    "knn_train_mcc=matthews_corrcoef(y_train,y_train_pred)\n",
    "knn_train_f1=f1_score(y_train,y_train_pred,average='weighted')\n",
    "\n",
    "\n",
    "# Testing set performance.\n",
    "knn_test_accuracy=accuracy_score(y_test,y_test_pred)# calculate accuracy\n",
    "knn_test_mcc=matthews_corrcoef(y_test,y_test_pred)\n",
    "knn_test_f1=f1_score(y_test,y_test_pred,average='weighted')\n",
    "\n",
    "# Display Results\n",
    "print('KNN model performance on Training set')\n",
    "print('Accuracy Score :%s',knn_train_accuracy)\n",
    "print('Matthews Score :%s',knn_train_mcc)\n",
    "print('F1 Score :%s',knn_train_f1)\n",
    "\n",
    "\n",
    "print('KNN model performance on Testing set')\n",
    "print('Accuracy Score :%s',knn_test_accuracy)\n",
    "print('Matthews Score :%s',knn_test_mcc)\n",
    "print('F1 Score :%s',knn_test_f1)"
   ]
  },
  {
   "cell_type": "code",
   "execution_count": 26,
   "metadata": {},
   "outputs": [
    {
     "name": "stdout",
     "output_type": "stream",
     "text": [
      "SVM model performance on Training set\n",
      "Accuracy Score :%s 0.9916666666666667\n",
      "Matthews Score :%s 0.9876028806587153\n",
      "F1 Score :%s 0.9916653643798509\n",
      "SVM model performance on Testing set\n",
      "Accuracy Score :%s 0.9666666666666667\n",
      "Matthews Score :%s 0.9515873026942034\n",
      "F1 Score :%s 0.9665831244778613\n"
     ]
    }
   ],
   "source": [
    "from sklearn.svm import SVC\n",
    "svm=SVC(gamma=2,C=1)\n",
    "svm.fit(X_train,y_train)\n",
    "\n",
    "# doing the predictions via the created knn model\n",
    "y_train_pred=svm.predict(X_train)\n",
    "y_test_pred=svm.predict(X_test)\n",
    "\n",
    "# Training set performance.\n",
    "svm_train_accuracy=accuracy_score(y_train,y_train_pred)# calculate accuracy\n",
    "svm_train_mcc=matthews_corrcoef(y_train,y_train_pred)\n",
    "svm_train_f1=f1_score(y_train,y_train_pred,average='weighted')\n",
    "\n",
    "\n",
    "# Testing set performance.\n",
    "svm_test_accuracy=accuracy_score(y_test,y_test_pred)# calculate accuracy\n",
    "svm_test_mcc=matthews_corrcoef(y_test,y_test_pred)\n",
    "svm_test_f1=f1_score(y_test,y_test_pred,average='weighted')\n",
    "\n",
    "# Display Results\n",
    "print('SVM model performance on Training set')\n",
    "print('Accuracy Score :%s',svm_train_accuracy)\n",
    "print('Matthews Score :%s',svm_train_mcc)\n",
    "print('F1 Score :%s',svm_train_f1)\n",
    "\n",
    "\n",
    "print('SVM model performance on Testing set')\n",
    "print('Accuracy Score :%s',svm_test_accuracy)\n",
    "print('Matthews Score :%s',svm_test_mcc)\n",
    "print('F1 Score :%s',svm_test_f1)"
   ]
  },
  {
   "cell_type": "code",
   "execution_count": 28,
   "metadata": {},
   "outputs": [
    {
     "name": "stdout",
     "output_type": "stream",
     "text": [
      "Decision Tree model performance on Training set\n",
      "Accuracy Score :%s 1.0\n",
      "Matthews Score :%s 1.0\n",
      "F1 Score :%s 1.0\n",
      "Decision Tree model performance on Testing set\n",
      "Accuracy Score :%s 0.9333333333333333\n",
      "Matthews Score :%s 0.9\n",
      "F1 Score :%s 0.9333333333333333\n"
     ]
    }
   ],
   "source": [
    "from sklearn.tree import DecisionTreeClassifier\n",
    "dt=DecisionTreeClassifier(max_depth=5)\n",
    "dt.fit(X_train,y_train)\n",
    "\n",
    "# doing the predictions via the created knn model\n",
    "y_train_pred=dt.predict(X_train)\n",
    "y_test_pred=dt.predict(X_test)\n",
    "\n",
    "# Training set performance.\n",
    "dt_train_accuracy=accuracy_score(y_train,y_train_pred)# calculate accuracy\n",
    "dt_train_mcc=matthews_corrcoef(y_train,y_train_pred)\n",
    "dt_train_f1=f1_score(y_train,y_train_pred,average='weighted')\n",
    "\n",
    "\n",
    "# Testing set performance.\n",
    "dt_test_accuracy=accuracy_score(y_test,y_test_pred)# calculate accuracy\n",
    "dt_test_mcc=matthews_corrcoef(y_test,y_test_pred)\n",
    "dt_test_f1=f1_score(y_test,y_test_pred,average='weighted')\n",
    "\n",
    "# Display Results\n",
    "print('Decision Tree model performance on Training set')\n",
    "print('Accuracy Score :%s',dt_train_accuracy)\n",
    "print('Matthews Score :%s',dt_train_mcc)\n",
    "print('F1 Score :%s',dt_train_f1)\n",
    "\n",
    "\n",
    "print('Decision Tree model performance on Testing set')\n",
    "print('Accuracy Score :%s',dt_test_accuracy)\n",
    "print('Matthews Score :%s',dt_test_mcc)\n",
    "print('F1 Score :%s',dt_test_f1)"
   ]
  },
  {
   "cell_type": "code",
   "execution_count": 30,
   "metadata": {},
   "outputs": [],
   "source": [
    "from sklearn.ensemble import StackingClassifier\n",
    "from sklearn.linear_model import LogisticRegression\n",
    "# three classifiers are combined together to work as one single unit inside the stacking ensembler.\n",
    "estimator_list=[\n",
    "    ('knn',knn),\n",
    "    ('svm',svm),\n",
    "    ('dt',dt)\n",
    "    \n",
    "]\n",
    "# final output produced by the stacking ensembler has been sent through a logistic regression classifier as well\n",
    "stack_model=StackingClassifier(estimators=estimator_list,final_estimator=LogisticRegression())"
   ]
  },
  {
   "cell_type": "code",
   "execution_count": 31,
   "metadata": {},
   "outputs": [
    {
     "data": {
      "text/plain": [
       "StackingClassifier(estimators=[('knn', KNeighborsClassifier(n_neighbors=3)),\n",
       "                               ('svm', SVC(C=1, gamma=2)),\n",
       "                               ('dt', DecisionTreeClassifier(max_depth=5))],\n",
       "                   final_estimator=LogisticRegression())"
      ]
     },
     "execution_count": 31,
     "metadata": {},
     "output_type": "execute_result"
    }
   ],
   "source": [
    "stack_model.fit(X_train,y_train)"
   ]
  },
  {
   "cell_type": "code",
   "execution_count": 32,
   "metadata": {},
   "outputs": [
    {
     "name": "stdout",
     "output_type": "stream",
     "text": [
      "Stack  model performance on Training set\n",
      "Accuracy Score :%s 0.9916666666666667\n",
      "Matthews Score :%s 0.9876028806587153\n",
      "F1 Score :%s 0.9916653643798509\n",
      "Stack model performance on Testing set\n",
      "Accuracy Score :%s 0.9666666666666667\n",
      "Matthews Score :%s 0.9515873026942034\n",
      "F1 Score :%s 0.9665831244778613\n"
     ]
    }
   ],
   "source": [
    "# doing the predictions via the created knn model\n",
    "y_train_pred=stack_model.predict(X_train)\n",
    "y_test_pred=stack_model.predict(X_test)\n",
    "\n",
    "# Training set performance.\n",
    "stack_train_accuracy=accuracy_score(y_train,y_train_pred)# calculate accuracy\n",
    "stack_train_mcc=matthews_corrcoef(y_train,y_train_pred)\n",
    "stack_train_f1=f1_score(y_train,y_train_pred,average='weighted')\n",
    "\n",
    "\n",
    "# Testing set performance.\n",
    "stack_test_accuracy=accuracy_score(y_test,y_test_pred)# calculate accuracy\n",
    "stack_test_mcc=matthews_corrcoef(y_test,y_test_pred)\n",
    "stack_test_f1=f1_score(y_test,y_test_pred,average='weighted')\n",
    "\n",
    "# Display Results\n",
    "print('Stack  model performance on Training set')\n",
    "print('Accuracy Score :%s',stack_train_accuracy)\n",
    "print('Matthews Score :%s',stack_train_mcc)\n",
    "print('F1 Score :%s',stack_train_f1)\n",
    "\n",
    "\n",
    "print('Stack model performance on Testing set')\n",
    "print('Accuracy Score :%s',stack_test_accuracy)\n",
    "print('Matthews Score :%s',stack_test_mcc)\n",
    "print('F1 Score :%s',stack_test_f1)"
   ]
  },
  {
   "cell_type": "code",
   "execution_count": null,
   "metadata": {},
   "outputs": [],
   "source": []
  }
 ],
 "metadata": {
  "kernelspec": {
   "display_name": "Python 3",
   "language": "python",
   "name": "python3"
  },
  "language_info": {
   "codemirror_mode": {
    "name": "ipython",
    "version": 3
   },
   "file_extension": ".py",
   "mimetype": "text/x-python",
   "name": "python",
   "nbconvert_exporter": "python",
   "pygments_lexer": "ipython3",
   "version": "3.8.5"
  }
 },
 "nbformat": 4,
 "nbformat_minor": 4
}
